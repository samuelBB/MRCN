{
 "cells": [
  {
   "cell_type": "code",
   "execution_count": null,
   "metadata": {
    "collapsed": false,
    "deletable": true,
    "editable": true,
    "scrolled": false
   },
   "outputs": [],
   "source": [
    "from __future__ import print_function\n",
    "from graph import Graph\n",
    "from graph_tools import C, K, erdos_renyi, circle_plot\n",
    "from MRCN_algorithms import naeps, CR, MRCN_convex"
   ]
  },
  {
   "cell_type": "code",
   "execution_count": null,
   "metadata": {
    "collapsed": false,
    "deletable": true,
    "editable": true,
    "scrolled": false
   },
   "outputs": [],
   "source": [
    "# complete graph on 10 vertices\n",
    "G = K(10)\n",
    "print(G)\n",
    "\n",
    "# modify G\n",
    "E = G.E[:] # copy original edge set\n",
    "G.add_vertex(10)\n",
    "G.add_edges([(0,10), (4,10),])\n",
    "print('\\nAdded edges:', set(G.E) - set(E))"
   ]
  },
  {
   "cell_type": "code",
   "execution_count": null,
   "metadata": {
    "collapsed": false,
    "deletable": true,
    "editable": true,
    "scrolled": false
   },
   "outputs": [],
   "source": [
    "# cycle graph on 8 vertices\n",
    "G = C(8)\n",
    "print(G)"
   ]
  },
  {
   "cell_type": "code",
   "execution_count": null,
   "metadata": {
    "collapsed": false,
    "deletable": true,
    "editable": true,
    "scrolled": false
   },
   "outputs": [],
   "source": [
    "# Erdos-Renyi graph on 12 vertices (p=1/3)\n",
    "G = erdos_renyi(12, 1/3.)\n",
    "print(G)\n",
    "\n",
    "# display nice image of graph\n",
    "circle_plot(G)"
   ]
  },
  {
   "cell_type": "code",
   "execution_count": null,
   "metadata": {
    "collapsed": false,
    "deletable": true,
    "editable": true,
    "scrolled": false
   },
   "outputs": [],
   "source": [
    "# construct cycle graph C(8) manually and display\n",
    "V = range(8)\n",
    "E = [(0,1),(0,7),(1,2),(2,3),(3,4),(4,5),(5,6),(6,7),]\n",
    "G = Graph(V=V, E=E)\n",
    "print(G)\n",
    "circle_plot(G)"
   ]
  },
  {
   "cell_type": "code",
   "execution_count": null,
   "metadata": {
    "collapsed": false,
    "deletable": true,
    "editable": true,
    "scrolled": false
   },
   "outputs": [],
   "source": [
    "# find convex drawing of G=C(8) with maximal crossings\n",
    "n_crossings, max_drawing = MRCN_convex(G)\n",
    "print(n_crossings, max_drawing)\n",
    "\n",
    "# verify that our program computes the correct maximum based on the proven formula when N is even:\n",
    "#      max-convex-crossing-number(C(N)) = N(N - 4)/2 + 1\n",
    "assert n_crossings == 8*(8 - 4)//2 + 1"
   ]
  },
  {
   "cell_type": "code",
   "execution_count": null,
   "metadata": {
    "collapsed": false,
    "deletable": true,
    "editable": true,
    "scrolled": false
   },
   "outputs": [],
   "source": [
    "# image of G in maximally crossing configuration\n",
    "circle_plot(G, max_drawing)\n",
    "\n",
    "# save the image in current directory\n",
    "circle_plot(G, max_drawing, save_path='best_drawing_C8.png')"
   ]
  },
  {
   "cell_type": "code",
   "execution_count": null,
   "metadata": {
    "collapsed": false,
    "deletable": true,
    "editable": true,
    "scrolled": false
   },
   "outputs": [],
   "source": [
    "# non-adjacent edge-pairs (naeps) of G\n",
    "print(naeps(G))"
   ]
  },
  {
   "cell_type": "code",
   "execution_count": null,
   "metadata": {
    "collapsed": false,
    "deletable": true,
    "editable": true,
    "scrolled": false
   },
   "outputs": [],
   "source": [
    "# find number of crossings for a particular (in this case, random) vertex ordering of G\n",
    "random_drawing = G.permute()\n",
    "n_crossings = CR(G, random_drawing)\n",
    "print('Number of crossings:', n_crossings)\n",
    "circle_plot(G, random_drawing)"
   ]
  },
  {
   "cell_type": "code",
   "execution_count": null,
   "metadata": {
    "collapsed": true,
    "deletable": true,
    "editable": true,
    "scrolled": false
   },
   "outputs": [],
   "source": []
  }
 ],
 "metadata": {
  "kernelspec": {
   "display_name": "Python 3",
   "language": "python",
   "name": "python3"
  },
  "language_info": {
   "codemirror_mode": {
    "name": "ipython",
    "version": 3
   },
   "file_extension": ".py",
   "mimetype": "text/x-python",
   "name": "python",
   "nbconvert_exporter": "python",
   "pygments_lexer": "ipython3",
   "version": "3.5.0"
  }
 },
 "nbformat": 4,
 "nbformat_minor": 2
}
